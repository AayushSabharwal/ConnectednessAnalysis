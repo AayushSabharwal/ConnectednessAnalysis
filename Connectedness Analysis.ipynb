{
 "cells": [
  {
   "cell_type": "code",
   "execution_count": 2,
   "metadata": {},
   "outputs": [],
   "source": [
    "import networkx as nx\n",
    "import numpy as np"
   ]
  },
  {
   "cell_type": "code",
   "execution_count": 3,
   "metadata": {},
   "outputs": [],
   "source": [
    "g = nx.Graph()"
   ]
  },
  {
   "cell_type": "code",
   "execution_count": 6,
   "metadata": {},
   "outputs": [],
   "source": [
    "g.add_nodes_from(list(range(100)))"
   ]
  },
  {
   "cell_type": "code",
   "execution_count": 8,
   "metadata": {},
   "outputs": [
    {
     "data": {
      "text/plain": [
       "NodeView((0, 1, 2, 3, 4, 5, 6, 7, 8, 9, 10, 11, 12, 13, 14, 15, 16, 17, 18, 19, 20, 21, 22, 23, 24, 25, 26, 27, 28, 29, 30, 31, 32, 33, 34, 35, 36, 37, 38, 39, 40, 41, 42, 43, 44, 45, 46, 47, 48, 49, 50, 51, 52, 53, 54, 55, 56, 57, 58, 59, 60, 61, 62, 63, 64, 65, 66, 67, 68, 69, 70, 71, 72, 73, 74, 75, 76, 77, 78, 79, 80, 81, 82, 83, 84, 85, 86, 87, 88, 89, 90, 91, 92, 93, 94, 95, 96, 97, 98, 99))"
      ]
     },
     "execution_count": 8,
     "metadata": {},
     "output_type": "execute_result"
    }
   ],
   "source": [
    "g.nodes()"
   ]
  },
  {
   "cell_type": "code",
   "execution_count": 27,
   "metadata": {},
   "outputs": [
    {
     "name": "stdout",
     "output_type": "stream",
     "text": [
      "1111111111111111111111111111111111111111111111111111111111111111111111111111111111111111111111111111"
     ]
    }
   ],
   "source": [
    "x = nx.connected_components(g)\n",
    "for xx in x:\n",
    "    print(len(xx), end = '')"
   ]
  },
  {
   "cell_type": "code",
   "execution_count": 26,
   "metadata": {},
   "outputs": [],
   "source": [
    "class plotData:\n",
    "    def __init__(self):\n",
    "        self.n_comp = 0\n",
    "        self.sizes = []\n",
    "        self.avg_deg = []"
   ]
  },
  {
   "cell_type": "code",
   "execution_count": 52,
   "metadata": {},
   "outputs": [],
   "source": [
    "data = []\n",
    "g = nx.Graph()\n",
    "g.add_nodes_from(list(range(100)))"
   ]
  },
  {
   "cell_type": "code",
   "execution_count": 14,
   "metadata": {},
   "outputs": [],
   "source": [
    "import random"
   ]
  },
  {
   "cell_type": "code",
   "execution_count": 53,
   "metadata": {},
   "outputs": [],
   "source": [
    "while not nx.is_connected(g):\n",
    "    components = nx.connected_components(g)\n",
    "    data.append(plotData())\n",
    "    for component in components:\n",
    "        data[-1].n_comp += 1\n",
    "        data[-1].sizes.append(len(component))\n",
    "        avg = 0\n",
    "        for node in component:\n",
    "            avg += g.degree[node]\n",
    "        avg /= data[-1].sizes[-1]\n",
    "        data[-1].avg_deg.append(avg)\n",
    "    edge = random.choices(list(g.nodes()), k=2)\n",
    "    g.add_edge(edge[0], edge[1])\n",
    "\n",
    "components = nx.connected_components(g)\n",
    "data.append(plotData())\n",
    "for component in components:\n",
    "    data[-1].n_comp += 1\n",
    "    data[-1].sizes.append(len(component))\n",
    "    avg = 0\n",
    "    for node in component:\n",
    "        avg += g.degree[node]\n",
    "    avg /= data[-1].sizes[-1]\n",
    "    data[-1].avg_deg.append(avg)"
   ]
  },
  {
   "cell_type": "code",
   "execution_count": 69,
   "metadata": {},
   "outputs": [],
   "source": [
    "from matplotlib import pyplot as plt\n",
    "from matplotlib.widgets import Slider"
   ]
  },
  {
   "cell_type": "code",
   "execution_count": 88,
   "metadata": {},
   "outputs": [
    {
     "name": "stdout",
     "output_type": "stream",
     "text": [
      "Using matplotlib backend: module://ipympl.backend_nbagg\n"
     ]
    }
   ],
   "source": [
    "len(data)\n",
    "%matplotlib widget\n",
    "%matplotlib"
   ]
  },
  {
   "cell_type": "code",
   "execution_count": 89,
   "metadata": {},
   "outputs": [
    {
     "data": {
      "application/vnd.jupyter.widget-view+json": {
       "model_id": "393502579a7f4ff889ceec0e4247d4f6",
       "version_major": 2,
       "version_minor": 0
      },
      "text/plain": [
       "Canvas(toolbar=Toolbar(toolitems=[('Home', 'Reset original view', 'home', 'home'), ('Back', 'Back to previous …"
      ]
     },
     "metadata": {},
     "output_type": "display_data"
    }
   ],
   "source": [
    "x = data[100].sizes\n",
    "y = data[100].avg_deg\n",
    "plt.ion()\n",
    "fig, ax = plt.subplots()\n",
    "p = plt.scatter(x, y)\n",
    "axcolor = 'lightgoldenrodyellow'\n",
    "ax = plt.axes([0.25, -1, 0.65, 0.03], facecolor=axcolor)\n",
    "slide = Slider(ax, 'Step', 0, len(data)-1, valinit=0, valstep=1)\n",
    "def update(val):\n",
    "    val = int(val)\n",
    "    p.set_offsets(np.c_[data[val].sizes, data[val].avg_deg])\n",
    "    fig.canvas.draw_idle()\n",
    "\n",
    "slide.on_changed(update)\n",
    "plt.show()"
   ]
  },
  {
   "cell_type": "code",
   "execution_count": 68,
   "metadata": {},
   "outputs": [
    {
     "data": {
      "text/plain": [
       "<matplotlib.collections.PathCollection at 0x7f0db1ff5b80>"
      ]
     },
     "execution_count": 68,
     "metadata": {},
     "output_type": "execute_result"
    },
    {
     "data": {
      "image/png": "[encoded data removed]",
      "text/plain": [
       "<Figure size 432x288 with 1 Axes>"
      ]
     },
     "metadata": {
      "needs_background": "light"
     },
     "output_type": "display_data"
    }
   ],
   "source": []
  }
 ],
 "metadata": {
  "kernelspec": {
   "display_name": "Python 3",
   "language": "python",
   "name": "python3"
  },
  "language_info": {
   "codemirror_mode": {
    "name": "ipython",
    "version": 3
   },
   "file_extension": ".py",
   "mimetype": "text/x-python",
   "name": "python",
   "nbconvert_exporter": "python",
   "pygments_lexer": "ipython3",
   "version": "3.8.2"
  }
 },
 "nbformat": 4,
 "nbformat_minor": 4
}
